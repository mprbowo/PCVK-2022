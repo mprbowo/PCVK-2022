{
  "nbformat": 4,
  "nbformat_minor": 0,
  "metadata": {
    "colab": {
      "name": "*.ipynb",
      "provenance": [],
      "authorship_tag": "ABX9TyNtqahD45ydS6JnHVQKVQC8",
      "include_colab_link": true
    },
    "kernelspec": {
      "name": "python3",
      "display_name": "Python 3"
    },
    "language_info": {
      "name": "python"
    }
  },
  "cells": [
    {
      "cell_type": "markdown",
      "metadata": {
        "id": "view-in-github",
        "colab_type": "text"
      },
      "source": [
        "<a href=\"https://colab.research.google.com/github/mprbowo/PCVK-2022/blob/main/Week1.ipynb\" target=\"_parent\"><img src=\"https://colab.research.google.com/assets/colab-badge.svg\" alt=\"Open In Colab\"/></a>"
      ]
    },
    {
      "cell_type": "code",
      "execution_count": null,
      "metadata": {
        "id": "1_8_eW_JGSqJ"
      },
      "outputs": [],
      "source": [
        "import numpy as np\n",
        "import pandas as pd\n",
        "import cv2 as cv\n",
        "from google.colab.patches import cv2_imshow # for image display\n",
        "from skimage import io\n",
        "from skimage import transform\n",
        "from PIL import Image\n",
        "import matplotlib as plt"
      ]
    },
    {
      "cell_type": "code",
      "source": [
        "# Membuat list untuk menyimpan url dari beberapa image\n",
        "urls = [\"https://iiif.lib.ncsu.edu/iiif/0052574/full/800,/0/default.jpg\",\"https://iiif.lib.ncsu.edu/iiif/0016007/full/800,/0/default.jpg\",\"https://placekitten.com/800/571\"]\n",
        "# baca dan tampilkan image\n",
        "# loop pada tiap url image, beberapa image dapat disimpan pada list\n",
        "for url in urls:\n",
        "  image = io.imread(url)                          #read image\n",
        "  image = cv.resize(image, (0,0), fx=0.5, fy=0.5) #resize image to half size\n",
        "  image_2 = cv.cvtColor(image, cv.COLOR_BGR2RGB)  #convert color to RGB\n",
        "  final_frame = cv.hconcat((image, image_2))      #concatenate image\n",
        "  cv2_imshow(final_frame)                         #show image\n",
        "  print('\\n')"
      ],
      "metadata": {
        "id": "V4Cx1iYKOcyD"
      },
      "execution_count": null,
      "outputs": []
    },
    {
      "cell_type": "code",
      "source": [
        "tinggi = image_2.shape[0]\n",
        "lebar = image_2.shape[1]\n",
        "print(\"resolusi image: tinggi x lebar = \",tinggi,\"x\",lebar)\n",
        "cv2_imshow(image_2)"
      ],
      "metadata": {
        "id": "_03VBaM2Ol14"
      },
      "execution_count": null,
      "outputs": []
    },
    {
      "cell_type": "code",
      "source": [
        "image_2 = cv.cvtColor(image, cv.COLOR_BGR2RGB)\n",
        "image_3 = cv.cvtColor(image, cv.COLOR_BGR2RGB)\n",
        "\n",
        "#membuat garis horizontal ditengah image\n",
        "for y in range (lebar):\n",
        "  image_3[int((tinggi)/2),y] = [255,255,255]\n",
        "\n",
        "final_frame = cv.hconcat((image_2, image_3))\n",
        "cv2_imshow(final_frame)"
      ],
      "metadata": {
        "id": "XT10u_1LOs2n"
      },
      "execution_count": null,
      "outputs": []
    },
    {
      "cell_type": "code",
      "source": [
        "image_2 = cv.cvtColor(image, cv.COLOR_BGR2RGB)\n",
        "image_4 = cv.cvtColor(image, cv.COLOR_BGR2RGB)\n",
        "\n",
        "for x in range(tinggi):\n",
        "  image_4[x, int((lebar)/2)] = [255, 255, 255]\n",
        "\n",
        "\n",
        "final_frame = cv.hconcat((image_2, image_4))\n",
        "cv2_imshow(final_frame)"
      ],
      "metadata": {
        "id": "e4XmgDZ2SOXx"
      },
      "execution_count": null,
      "outputs": []
    },
    {
      "cell_type": "code",
      "source": [
        "image_2 = cv.cvtColor(image, cv.COLOR_BGR2RGB)\n",
        "image_5 = cv.cvtColor(image, cv.COLOR_BGR2RGB)\n",
        "\n",
        "img = cv.line(image_5,(0,0),(lebar, tinggi),(255,255,255))\n",
        "img = cv.line(image_5,(lebar,0),(0, tinggi),(255,255,255))\n",
        "\n",
        "final_frame = cv.hconcat((image_2, img))\n",
        "cv2_imshow(final_frame)"
      ],
      "metadata": {
        "id": "kIE8mqk_SgFY"
      },
      "execution_count": null,
      "outputs": []
    }
  ]
}